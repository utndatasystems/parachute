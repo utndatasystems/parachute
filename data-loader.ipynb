{
 "cells": [
  {
   "cell_type": "code",
   "execution_count": null,
   "metadata": {},
   "outputs": [],
   "source": [
    "import re\n",
    "import os\n",
    "import utils\n",
    "\n",
    "DATA_DIR = 'metadata/imdb/'\n",
    "SCHEMA_FILE = os.path.join(DATA_DIR, 'schema.sql')\n",
    "LOADER_FILE = os.path.join(DATA_DIR, 'load.sql')\n",
    "\n",
    "# The data name.\n",
    "data_name = os.path.basename(os.path.normpath(DATA_DIR))\n",
    "print(f'data_name={data_name}')\n",
    "\n",
    "# The database file.\n",
    "if not os.path.isdir('dbs'):\n",
    "  os.mkdir('dbs')\n",
    "DB_FILE = f'dbs/{data_name}.duckdb'\n",
    "\n",
    "# Remove the existing database file if it exists (just to be sure we don't use old stuff).\n",
    "if os.path.isfile(DB_FILE):\n",
    "  os.remove(DB_FILE)\n",
    "\n",
    "num_threads = os.cpu_count()\n",
    "con = utils.open_duckdb(db_path=DB_FILE, read_only=False, threads=os.cpu_count())\n",
    "\n",
    "create_stmts = open(SCHEMA_FILE, 'r').read()\n",
    "\n",
    "# Gather the stmts.\n",
    "table_names = re.findall(r'CREATE TABLE\\s+(\\w+)', create_stmts, re.IGNORECASE)\n",
    "drop_tables = '\\n'.join([f'DROP TABLE IF EXISTS {table};' for table in table_names])\n",
    "load_stmts = open(LOADER_FILE, 'r').read()\n",
    "\n",
    "# And run.\n",
    "import time\n",
    "start_time = time.time_ns()\n",
    "con.execute(drop_tables)\n",
    "con.execute(create_stmts)\n",
    "\n",
    "for command in load_stmts.split(';'):\n",
    "  command = command.strip()\n",
    "  if command:\n",
    "    print(f'command={command}')\n",
    "    con.execute(command)\n",
    "end_time = time.time_ns()\n",
    "\n",
    "import socket\n",
    "hostname = socket.gethostname()\n",
    "\n",
    "utils.write_json(os.path.join(DATA_DIR, f'{hostname}-load.json'), {\n",
    "  'load-time' : end_time - start_time\n",
    "})\n",
    "\n",
    "print(con.execute(\"SHOW TABLES\").fetchall())\n",
    "con.close()"
   ]
  }
 ],
 "metadata": {
  "kernelspec": {
   "display_name": "Python 3",
   "language": "python",
   "name": "python3"
  },
  "language_info": {
   "codemirror_mode": {
    "name": "ipython",
    "version": 3
   },
   "file_extension": ".py",
   "mimetype": "text/x-python",
   "name": "python",
   "nbconvert_exporter": "python",
   "pygments_lexer": "ipython3",
   "version": "3.12.3"
  }
 },
 "nbformat": 4,
 "nbformat_minor": 2
}
