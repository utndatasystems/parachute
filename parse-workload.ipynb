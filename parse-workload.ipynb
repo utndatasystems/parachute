{
 "cells": [
  {
   "cell_type": "code",
   "execution_count": null,
   "metadata": {},
   "outputs": [],
   "source": [
    "%reload_ext autoreload\n",
    "%autoreload 2\n",
    "\n",
    "from query_representation.query import *\n",
    "import re\n",
    "import utils\n",
    "\n",
    "WORKLOAD = 'workload/job'\n",
    "\n",
    "def convert(qfn):\n",
    "  qrep = load_qrep(qfn)\n",
    "\n",
    "  # idx = {}\n",
    "  # table_names, alias_names = get_tables(qrep)\n",
    "\n",
    "  preds = get_predicates(qrep)\n",
    "  print(preds)\n",
    "\n",
    "  return utils.clean_preds(preds)\n",
    "\n",
    "import os\n",
    "\n",
    "qfn_directory = os.path.join(WORKLOAD, 'qfn')\n",
    "pkl_files = []\n",
    "for root, dirs, files in os.walk(qfn_directory):\n",
    "  for file in files:\n",
    "    if file.endswith('.pkl'):\n",
    "      pkl_files.append(os.path.join(root, file))\n",
    "\n",
    "def merge_preds(xs, ys):\n",
    "  for y in ys:\n",
    "    if y not in xs:\n",
    "      xs[y] = ys[y]\n",
    "    else:\n",
    "      xs[y] |= ys[y]\n",
    "\n",
    "global_preds = dict()\n",
    "for pkl_file in pkl_files:\n",
    "  curr_preds = convert(pkl_file)\n",
    "  merge_preds(global_preds, curr_preds)\n",
    "\n",
    "# Convert to list.\n",
    "for key in global_preds:\n",
    "  global_preds[key] = list(global_preds[key])\n",
    "\n",
    "print(global_preds)\n",
    "\n",
    "utils.write_json(os.path.join(WORKLOAD, 'preds.json'), global_preds)"
   ]
  }
 ],
 "metadata": {
  "kernelspec": {
   "display_name": "Python 3",
   "language": "python",
   "name": "python3"
  },
  "language_info": {
   "codemirror_mode": {
    "name": "ipython",
    "version": 3
   },
   "file_extension": ".py",
   "mimetype": "text/x-python",
   "name": "python",
   "nbconvert_exporter": "python",
   "pygments_lexer": "ipython3",
   "version": "3.12.3"
  }
 },
 "nbformat": 4,
 "nbformat_minor": 2
}
