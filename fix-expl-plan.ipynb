{
 "cells": [
  {
   "cell_type": "code",
   "execution_count": 1,
   "metadata": {},
   "outputs": [],
   "source": [
    "%reload_ext autoreload\n",
    "%autoreload 2\n",
    "\n",
    "import os\n",
    "import utils\n",
    "\n",
    "WORKLOAD_NAME = 'ceb'\n",
    "WORKLOAD_DIR = f'workload/{WORKLOAD_NAME}'\n",
    "\n",
    "workload_plan_dir = os.path.join(WORKLOAD_DIR, 'plan')\n",
    "for file_name in os.listdir(workload_plan_dir):\n",
    "  file_name = os.path.join(workload_plan_dir, file_name)\n",
    "  if file_name.endswith('.json'):\n",
    "    all_lines = open(file_name, 'r').readlines()\n",
    "    flag = False\n",
    "    pruned_lines = []\n",
    "    for line in all_lines:\n",
    "      if line.startswith('['):\n",
    "        flag = True\n",
    "      if flag:\n",
    "        pruned_lines.append(line)\n",
    "    with open(file_name, 'w') as f:\n",
    "      f.write(''.join(pruned_lines))\n",
    "    json_plan = utils.read_json(file_name)\n",
    "    utils.write_json(file_name, json_plan[0])"
   ]
  }
 ],
 "metadata": {
  "kernelspec": {
   "display_name": ".venv",
   "language": "python",
   "name": "python3"
  },
  "language_info": {
   "codemirror_mode": {
    "name": "ipython",
    "version": 3
   },
   "file_extension": ".py",
   "mimetype": "text/x-python",
   "name": "python",
   "nbconvert_exporter": "python",
   "pygments_lexer": "ipython3",
   "version": "3.13.0"
  }
 },
 "nbformat": 4,
 "nbformat_minor": 2
}
